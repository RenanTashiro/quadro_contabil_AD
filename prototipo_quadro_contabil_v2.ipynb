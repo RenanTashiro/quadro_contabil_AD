{
 "cells": [
  {
   "cell_type": "code",
   "execution_count": 1,
   "metadata": {},
   "outputs": [],
   "source": [
    "import os\n",
    "import json\n",
    "import pandas as pd\n",
    "from datetime import datetime\n",
    "from collections import defaultdict"
   ]
  },
  {
   "cell_type": "code",
   "execution_count": 2,
   "metadata": {},
   "outputs": [],
   "source": [
    "path_dados = 'data/13-10-2020/'"
   ]
  },
  {
   "cell_type": "code",
   "execution_count": 3,
   "metadata": {},
   "outputs": [],
   "source": [
    "def abrir_json(path):\n",
    "    \n",
    "    with open(path, 'r', encoding = 'utf-8') as f:\n",
    "        content = f.read()\n",
    "    return json.loads(content)\n"
   ]
  },
  {
   "cell_type": "code",
   "execution_count": 4,
   "metadata": {},
   "outputs": [],
   "source": [
    "requisicoes = abrir_json(path_dados+'consulta.json')"
   ]
  },
  {
   "cell_type": "code",
   "execution_count": 5,
   "metadata": {},
   "outputs": [],
   "source": [
    "procs = abrir_json(path_dados+'registro.json')"
   ]
  },
  {
   "cell_type": "code",
   "execution_count": 6,
   "metadata": {},
   "outputs": [],
   "source": [
    "def checar_retorno_ok(resp):\n",
    "    \n",
    "    return resp.get('codRetorno', 9999) == 0\n",
    "\n",
    "def checar_se_fechou(req):\n",
    "    \n",
    "    situ_arrecad = req.get('ObterSituacaoFechamentoArrecadacao', {}).get('response', {})\n",
    "    if checar_retorno_ok(situ_arrecad):\n",
    "        cod_situ = situ_arrecad['codSituacao']\n",
    "        return cod_situ == 2\n",
    "    \n",
    "    return False\n",
    "\n",
    "\n",
    "def convert_timestamp(timestamp):\n",
    "    \n",
    "    arrumada_miliseconds_js = timestamp/1000\n",
    "    \n",
    "    return datetime.fromtimestamp(arrumada_miliseconds_js)\n",
    "\n",
    "\n",
    "def checar_se_no_periodo(timestamp, mes, ano):\n",
    "    \n",
    "    dt_object = convert_timestamp(timestamp)\n",
    "    \n",
    "    return dt_object.year == ano and dt_object.month == mes\n",
    "\n",
    "def checar_conciliou(req):\n",
    "    \n",
    "    demonstrativo = req.get('ObterDemonstrativoArrecadaoDiaria', {})\n",
    "    demonstrativo = demonstrativo.get('response', {}).get('demonstrativo', {})\n",
    "    pagamentos = req.get('ObterPagamentosPorDataArrecadacao', {}).get('response', {})\n",
    "    if checar_retorno_ok(demonstrativo) and checar_retorno_ok(pagamentos):\n",
    "        \n",
    "        total_demonstrativo = demonstrativo.get('demonstrativo', {}).get('vlTotalPgtos', None)\n",
    "        if total_demonstrativo: total_demonstrativo = float(total_demonstrativo)\n",
    "        print(f'Total demonstrativo : {total_demonstrativo}')\n",
    "        total_pagamentos = 0\n",
    "        for pag in pagamentos.get('pagamentos', {}).get('pagamento',[]):\n",
    "            total_pagamentos+= float(pag.get('vlPago', 0))\n",
    "        print(f'Total pagamentos : {total_pagamentos}')\n",
    "        return total_demonstrativo == total_pagamentos\n",
    "    else:\n",
    "        print(demonstrativo)\n",
    "        \n",
    "    return False\n",
    "\n",
    "def pegar_pagamentos(req, mes, ano):\n",
    "    \n",
    "    pagamentos = []\n",
    "    pags = req.get('ObterPagamentosPorDataArrecadacao', {}).get('response', {})\n",
    "    if checar_retorno_ok(pags) and checar_conciliou(req):\n",
    "        pags = pags['pagamentos']['pagamento']\n",
    "        for pag in pags:\n",
    "            if checar_se_no_periodo(pag['dtArrecadacao'], mes, ano):\n",
    "                pagamentos.append(pag)\n",
    "    return pagamentos\n",
    "    \n",
    "\n",
    "def pegar_boleto_proc(proc):\n",
    "    \n",
    "    bol =  proc['request']\n",
    "    bol['numero_proc'] = proc['process']['nP']\n",
    "\n",
    "    return bol\n"
   ]
  },
  {
   "cell_type": "code",
   "execution_count": 7,
   "metadata": {},
   "outputs": [],
   "source": [
    "boletos = [pegar_boleto_proc(proc) for proc in procs]"
   ]
  },
  {
   "cell_type": "code",
   "execution_count": 8,
   "metadata": {},
   "outputs": [
    {
     "name": "stdout",
     "output_type": "stream",
     "text": [
      "Total demonstrativo : 21.5\n",
      "Total pagamentos : 21.5\n",
      "Total demonstrativo : 192293.79\n",
      "Total pagamentos : 192293.79\n",
      "Total demonstrativo : 21.5\n",
      "Total pagamentos : 21.5\n",
      "Total demonstrativo : 21.5\n",
      "Total pagamentos : 21.5\n",
      "Total demonstrativo : 5536.79\n",
      "Total pagamentos : 8589.99\n",
      "Total demonstrativo : 21.5\n",
      "Total pagamentos : 21.5\n",
      "Total demonstrativo : 21.5\n",
      "Total pagamentos : 21.5\n",
      "Total demonstrativo : 90897.24\n",
      "Total pagamentos : 90897.24\n",
      "Total demonstrativo : 21.5\n",
      "Total pagamentos : 21.5\n",
      "Total demonstrativo : 2472.53\n",
      "Total pagamentos : 2472.53\n",
      "Total demonstrativo : 28613.2\n",
      "Total pagamentos : 28613.2\n",
      "Total demonstrativo : 2771.48\n",
      "Total pagamentos : 2771.48\n",
      "Total demonstrativo : 21.5\n",
      "Total pagamentos : 21.5\n",
      "Total demonstrativo : 966.14\n",
      "Total pagamentos : 966.14\n",
      "Total demonstrativo : 8589.99\n",
      "Total pagamentos : 8589.99\n",
      "Total demonstrativo : 3097.89\n",
      "Total pagamentos : 3097.89\n"
     ]
    }
   ],
   "source": [
    "pagamentos = [pag for req in requisicoes for pag in pegar_pagamentos(req, 9, 2020) ]"
   ]
  },
  {
   "cell_type": "code",
   "execution_count": 9,
   "metadata": {},
   "outputs": [],
   "source": [
    "req = requisicoes[0]"
   ]
  },
  {
   "cell_type": "code",
   "execution_count": 10,
   "metadata": {},
   "outputs": [],
   "source": [
    "def adicionar_pags_aos_boletos(boletos, pagamentos):\n",
    "    \n",
    "    for boleto in boletos:\n",
    "        boleto['pagamentos'] = []\n",
    "        for pag in pagamentos:\n",
    "            if int(boleto['numIndentificadorDocumento']) == int(pag['numIndentificadorDocumento']):\n",
    "                boleto['pagamentos'].append(pag)\n",
    "                \n",
    "                \n",
    "def adicionar_total_cobrado_boleto(boletos):\n",
    "    \n",
    "    for bol in boletos:\n",
    "        bol['total_cobrado'] = 0\n",
    "\n",
    "        for taxa in bol['reclassificacaoReceita']:\n",
    "            bol['total_cobrado'] += taxa['vlrPrincipal']\n",
    "            bol['total_cobrado'] += taxa['vlrMulta']\n",
    "            bol['total_cobrado'] += taxa['vlrCorrecao']\n",
    "            bol['total_cobrado'] -= taxa['vlrDesconto']\n",
    "                \n",
    "def adicionar_total_pago(boletos):\n",
    "    \n",
    "    for bol in boletos:\n",
    "        bol['total_pago'] = 0\n",
    "        for pag in bol['pagamentos']:\n",
    "            bol['total_pago']+=pag['vlPago']"
   ]
  },
  {
   "cell_type": "code",
   "execution_count": 11,
   "metadata": {},
   "outputs": [],
   "source": [
    "adicionar_pags_aos_boletos(boletos, pagamentos)"
   ]
  },
  {
   "cell_type": "code",
   "execution_count": 12,
   "metadata": {},
   "outputs": [],
   "source": [
    "adicionar_total_cobrado_boleto(boletos)"
   ]
  },
  {
   "cell_type": "code",
   "execution_count": 13,
   "metadata": {},
   "outputs": [],
   "source": [
    "adicionar_total_pago(boletos)"
   ]
  },
  {
   "cell_type": "code",
   "execution_count": 14,
   "metadata": {},
   "outputs": [],
   "source": [
    "def gerar_status_pagamentos(boletos):\n",
    "    \n",
    "    for bol in boletos:\n",
    "        if len(bol['pagamentos']) == 0:\n",
    "            bol['status'] = 'Aguardando pagamento'\n",
    "        else:\n",
    "            if bol['total_pago'] == bol['total_cobrado']:\n",
    "                bol['status'] = 'Quitado'\n",
    "            elif bol['total_pago'] > bol['total_cobrado']:\n",
    "                bol['status'] = 'A maior'\n",
    "            elif bol['total_pago'] < bol['total_cobrado']:\n",
    "                bol['status'] = 'A menor'\n",
    "            \n",
    "def checar_duplicatas(boletos):\n",
    "    \n",
    "    for bol in boletos:\n",
    "        if len(bol['pagamentos']) > 1:\n",
    "            bol['duplicadas'] = len(bol['pagamentos'])\n",
    "        else:\n",
    "            bol['duplicadas'] = None"
   ]
  },
  {
   "cell_type": "code",
   "execution_count": 15,
   "metadata": {},
   "outputs": [],
   "source": [
    "gerar_status_pagamentos(boletos)\n",
    "checar_duplicatas(boletos)"
   ]
  },
  {
   "cell_type": "code",
   "execution_count": 16,
   "metadata": {},
   "outputs": [
    {
     "name": "stdout",
     "output_type": "stream",
     "text": [
      "Quitado\n",
      "Quitado\n",
      "Quitado\n",
      "Quitado\n",
      "Quitado\n",
      "Quitado\n",
      "Quitado\n",
      "Quitado\n",
      "Quitado\n",
      "Quitado\n",
      "Quitado\n",
      "Quitado\n",
      "Quitado\n",
      "Quitado\n",
      "Quitado\n",
      "Quitado\n",
      "Quitado\n",
      "Quitado\n",
      "Aguardando pagamento\n",
      "Aguardando pagamento\n",
      "Aguardando pagamento\n",
      "Aguardando pagamento\n",
      "Aguardando pagamento\n"
     ]
    }
   ],
   "source": [
    "for bol in boletos:\n",
    "    print(bol['status'])"
   ]
  },
  {
   "cell_type": "code",
   "execution_count": 17,
   "metadata": {},
   "outputs": [],
   "source": [
    "for bol in boletos:\n",
    "    if bol['status'] == 'A maior':\n",
    "        print(bol)\n",
    "        print('____')"
   ]
  },
  {
   "cell_type": "code",
   "execution_count": 18,
   "metadata": {},
   "outputs": [],
   "source": [
    "for bol in boletos:\n",
    "    if bol['status'] == 'A Maior':\n",
    "        try:\n",
    "            assert bol['duplicadas']\n",
    "        except:\n",
    "            print(bol)"
   ]
  },
  {
   "cell_type": "code",
   "execution_count": 19,
   "metadata": {},
   "outputs": [],
   "source": [
    "for bol in boletos:\n",
    "    try:\n",
    "        if bol['status'] == 'A Maior' and bol['duplicadas']:\n",
    "            assert bol['total_pago'] == bol['total_cobrado']*bol['duplicadas']\n",
    "    except:\n",
    "        print(bol)"
   ]
  },
  {
   "cell_type": "code",
   "execution_count": 20,
   "metadata": {},
   "outputs": [],
   "source": [
    "def valor_total_taxa(taxa):\n",
    "    \n",
    "    total=0\n",
    "    total+= taxa['vlrPrincipal']\n",
    "    total+= taxa['vlrMulta']\n",
    "    total+= taxa['vlrCorrecao']\n",
    "    total+=taxa['vlrMora']\n",
    "    total-= taxa['vlrDesconto']\n",
    "    \n",
    "    return total\n",
    "    \n",
    "\n",
    "def gerar_rel_contabil(boletos):\n",
    "    \n",
    "    rel_contabil = defaultdict(int)\n",
    "    \n",
    "    for bol in boletos:\n",
    "        if bol['status']=='Quitado':\n",
    "            for taxa in bol['reclassificacaoReceita']:\n",
    "                rel_contabil[taxa['tpoReclassificacao']] += valor_total_taxa(taxa)\n",
    "        if bol['status']=='A Maior' and bol['duplicadas']:\n",
    "            for taxa in bol['reclassificacaoReceita']:\n",
    "                total_taxa = valor_total_taxa(taxa)*bol['duplicadas']\n",
    "                rel_contabil[taxa['tpoReclassificacao']] += total_taxa\n",
    "                \n",
    "    return rel_contabil"
   ]
  },
  {
   "cell_type": "code",
   "execution_count": 21,
   "metadata": {},
   "outputs": [],
   "source": [
    "rel_contabil = gerar_rel_contabil(boletos)"
   ]
  },
  {
   "cell_type": "code",
   "execution_count": 22,
   "metadata": {},
   "outputs": [
    {
     "data": {
      "text/plain": [
       "defaultdict(int, {74: 448.5, 75: 325340.23})"
      ]
     },
     "execution_count": 22,
     "metadata": {},
     "output_type": "execute_result"
    }
   ],
   "source": [
    "rel_contabil"
   ]
  }
 ],
 "metadata": {
  "kernelspec": {
   "display_name": "Python 3",
   "language": "python",
   "name": "python3"
  },
  "language_info": {
   "codemirror_mode": {
    "name": "ipython",
    "version": 3
   },
   "file_extension": ".py",
   "mimetype": "text/x-python",
   "name": "python",
   "nbconvert_exporter": "python",
   "pygments_lexer": "ipython3",
   "version": "3.7.4"
  }
 },
 "nbformat": 4,
 "nbformat_minor": 4
}
